{
 "cells": [
  {
   "cell_type": "code",
   "execution_count": 1,
   "id": "35afa120",
   "metadata": {},
   "outputs": [
    {
     "name": "stdout",
     "output_type": "stream",
     "text": [
      "+--------------------+--------------------+----------+--------------+----------+----------+--------+-------+-----+---------+-------------------+---------------+----------------+----------------+-------------------------+\n",
      "|           member_id|           emp_title|emp_length|home_ownership|annual_inc|addr_state|zip_code|country|grade|sub_grade|verification_status|tot_hi_cred_lim|application_type|annual_inc_joint|verification_status_joint|\n",
      "+--------------------+--------------------+----------+--------------+----------+----------+--------+-------+-----+---------+-------------------+---------------+----------------+----------------+-------------------------+\n",
      "|b59d80da191f5b573...|                NULL|      NULL|          RENT|   50000.0|        OR|   973xx|    USA|    A|       A5|    Source Verified|         8600.0|      Individual|            NULL|                     NULL|\n",
      "|202d9f56ecb7c3bc9...|      police officer|   7 years|           OWN|   85000.0|        TX|   799xx|    USA|    A|       A5|    Source Verified|       272384.0|      Individual|            NULL|                     NULL|\n",
      "|e5a140c0922b554b9...|community living ...|   6 years|          RENT|   48000.0|        NY|   146xx|    USA|    B|       B2|    Source Verified|        85092.0|      Individual|            NULL|                     NULL|\n",
      "|e12aefc548f750777...|              Office| 10+ years|           OWN|   33000.0|        CT|   067xx|    USA|    F|       F1|           Verified|         7100.0|      Individual|            NULL|                     NULL|\n",
      "|1b3a50d854fbbf97e...|Special Tooling I...| 10+ years|      MORTGAGE|   81000.0|        TX|   791xx|    USA|    E|       E5|           Verified|       190274.0|      Individual|            NULL|                     NULL|\n",
      "|1c4329e5f17697127...|     Mine ops tech 6|   2 years|      MORTGAGE|   68000.0|        AZ|   855xx|    USA|    C|       C3|       Not Verified|       182453.0|      Individual|            NULL|                     NULL|\n",
      "|5026c86ad983175eb...|           caregiver|   4 years|          RENT|   76020.0|        WA|   993xx|    USA|    C|       C2|    Source Verified|        15308.0|      Individual|            NULL|                     NULL|\n",
      "|9847d8c1e9d0b2084...|                NULL|      NULL|           OWN|   65000.0|        IL|   624xx|    USA|    E|       E3|           Verified|       128800.0|      Individual|            NULL|                     NULL|\n",
      "|8340dbe1adea41fb4...|Vice President Re...|   8 years|      MORTGAGE|  111000.0|        CT|   063xx|    USA|    A|       A1|       Not Verified|       343507.0|      Individual|            NULL|                     NULL|\n",
      "|d4de0de3ab7d79ad4...|             FOREMAN| 10+ years|      MORTGAGE|   67000.0|        WA|   992xx|    USA|    G|       G2|           Verified|       211501.0|      Individual|            NULL|                     NULL|\n",
      "|3df3cdeddb74a8712...|          Strategist|    1 year|          RENT|  120000.0|        CA|   946xx|    USA|    A|       A5|           Verified|        56844.0|      Individual|            NULL|                     NULL|\n",
      "|9dd72636b1b4045b4...|      Office Manager|   2 years|          RENT|   52000.0|        FL|   327xx|    USA|    D|       D1|    Source Verified|        39393.0|      Individual|            NULL|                     NULL|\n",
      "|1d4e1ef4353b73c00...|         Electrician|   2 years|      MORTGAGE|   50000.0|        IL|   606xx|    USA|    C|       C3|       Not Verified|        66064.0|      Individual|            NULL|                     NULL|\n",
      "|6f196952e71277fd4...|     Finance Manager|    1 year|      MORTGAGE|  125000.0|        GA|   310xx|    USA|    E|       E2|    Source Verified|       555591.0|      Individual|            NULL|                     NULL|\n",
      "|9c617cbc6e3e3d6a1...|  Nurse practitioner|   5 years|      MORTGAGE|  165000.0|        IL|   610xx|    USA|    F|       F1|    Source Verified|       366113.0|      Individual|            NULL|                     NULL|\n",
      "|45eb04dd75400a942...|  equipment operator|   3 years|      MORTGAGE|   60000.0|        CT|   064xx|    USA|    C|       C4|    Source Verified|       198693.0|      Individual|            NULL|                     NULL|\n",
      "|08d233c81f9e50726...|           caregiver|   2 years|          RENT|   36000.0|        MO|   648xx|    USA|    C|       C1|    Source Verified|        14477.0|      Individual|            NULL|                     NULL|\n",
      "|8ff4d0ed17a1cab92...|               owner| 10+ years|      MORTGAGE|   28000.0|        CO|   801xx|    USA|    D|       D1|           Verified|       314400.0|      Individual|            NULL|                     NULL|\n",
      "|aec13cfd611b2cfea...|Community Supervi...|   2 years|          RENT|   33000.0|        GA|   306xx|    USA|    D|       D2|    Source Verified|       188700.0|      Individual|            NULL|                     NULL|\n",
      "|9ba8c96ccba6cd1f0...| Contract Specialist|   5 years|      MORTGAGE|   74700.0|        UT|   844xx|    USA|    D|       D4|           Verified|       614272.0|      Individual|            NULL|                     NULL|\n",
      "+--------------------+--------------------+----------+--------------+----------+----------+--------+-------+-----+---------+-------------------+---------------+----------------+----------------+-------------------------+\n",
      "only showing top 20 rows\n",
      "\n"
     ]
    }
   ],
   "source": [
    "from pyspark.sql import SparkSession\n",
    "from pyspark.sql.types import StructType, StructField, StringType, FloatType\n",
    "\n",
    "# Create a Spark session\n",
    "spark = SparkSession.builder \\\n",
    "    .appName(\"Lending Club Data Analysis\") \\\n",
    "    .getOrCreate()\n",
    "\n",
    "# Define the schema\n",
    "customer_schema = StructType([\n",
    "    StructField(\"member_id\", StringType(), True),\n",
    "    StructField(\"emp_title\", StringType(), True),\n",
    "    StructField(\"emp_length\", StringType(), True),\n",
    "    StructField(\"home_ownership\", StringType(), True),\n",
    "    StructField(\"annual_inc\", FloatType(), True),\n",
    "    StructField(\"addr_state\", StringType(), True),\n",
    "    StructField(\"zip_code\", StringType(), True),\n",
    "    StructField(\"country\", StringType(), True),\n",
    "    StructField(\"grade\", StringType(), True),\n",
    "    StructField(\"sub_grade\", StringType(), True),\n",
    "    StructField(\"verification_status\", StringType(), True),\n",
    "    StructField(\"tot_hi_cred_lim\", FloatType(), True),\n",
    "    StructField(\"application_type\", StringType(), True),\n",
    "    StructField(\"annual_inc_joint\", FloatType(), True),\n",
    "    StructField(\"verification_status_joint\", StringType(), True)\n",
    "])\n",
    "\n",
    "# Load the CSV file\n",
    "customers_raw_df = spark.read \\\n",
    "    .format(\"csv\") \\\n",
    "    .option(\"header\", True) \\\n",
    "    .schema(customer_schema) \\\n",
    "    .load(\"F:/SparkProject/lendingclubproject_datasets/lendingclubproject/raw/customers_data_csv/part-00000-694b65c5-0b8f-4760-ac12-2b59978292e0-c000.csv\")\n",
    "\n",
    "# Show the first few records from the DataFrame\n",
    "customers_raw_df.show()\n"
   ]
  },
  {
   "cell_type": "markdown",
   "id": "b46232c6",
   "metadata": {},
   "source": [
    "#### 1. create a dataframe with proper datatypes "
   ]
  },
  {
   "cell_type": "code",
   "execution_count": 19,
   "id": "86b8c49d",
   "metadata": {},
   "outputs": [
    {
     "name": "stdout",
     "output_type": "stream",
     "text": [
      "root\n",
      " |-- member_id: string (nullable = true)\n",
      " |-- emp_title: string (nullable = true)\n",
      " |-- emp_length: string (nullable = true)\n",
      " |-- home_ownership: string (nullable = true)\n",
      " |-- annual_inc: float (nullable = true)\n",
      " |-- addr_state: string (nullable = true)\n",
      " |-- zip_code: string (nullable = true)\n",
      " |-- country: string (nullable = true)\n",
      " |-- grade: string (nullable = true)\n",
      " |-- sub_grade: string (nullable = true)\n",
      " |-- verification_status: string (nullable = true)\n",
      " |-- tot_hi_cred_lim: float (nullable = true)\n",
      " |-- application_type: string (nullable = true)\n",
      " |-- annual_inc_joint: float (nullable = true)\n",
      " |-- verification_status_joint: string (nullable = true)\n",
      "\n"
     ]
    }
   ],
   "source": [
    "customers_raw_df.printSchema()"
   ]
  },
  {
   "cell_type": "markdown",
   "id": "acddc281",
   "metadata": {},
   "source": [
    "#### 2. Rename a few columns"
   ]
  },
  {
   "cell_type": "code",
   "execution_count": 20,
   "id": "a3a5494f",
   "metadata": {},
   "outputs": [],
   "source": [
    "customer_df_renamed = customers_raw_df.withColumnRenamed(\"annual_inc\", \"annual_income\") \\\n",
    ".withColumnRenamed(\"addr_state\", \"address_state\") \\\n",
    ".withColumnRenamed(\"zip_code\", \"address_zipcode\") \\\n",
    ".withColumnRenamed(\"country\", \"address_country\") \\\n",
    ".withColumnRenamed(\"tot_hi_credit_lim\", \"total_high_credit_limit\") \\\n",
    ".withColumnRenamed(\"annual_inc_joint\", \"join_annual_income\")"
   ]
  },
  {
   "cell_type": "code",
   "execution_count": 21,
   "id": "bddff0d4",
   "metadata": {},
   "outputs": [
    {
     "name": "stdout",
     "output_type": "stream",
     "text": [
      "+--------------------+--------------------+----------+--------------+-------------+-------------+---------------+---------------+-----+---------+-------------------+---------------+----------------+------------------+-------------------------+\n",
      "|           member_id|           emp_title|emp_length|home_ownership|annual_income|address_state|address_zipcode|address_country|grade|sub_grade|verification_status|tot_hi_cred_lim|application_type|join_annual_income|verification_status_joint|\n",
      "+--------------------+--------------------+----------+--------------+-------------+-------------+---------------+---------------+-----+---------+-------------------+---------------+----------------+------------------+-------------------------+\n",
      "|b59d80da191f5b573...|                NULL|      NULL|          RENT|      50000.0|           OR|          973xx|            USA|    A|       A5|    Source Verified|         8600.0|      Individual|              NULL|                     NULL|\n",
      "|202d9f56ecb7c3bc9...|      police officer|   7 years|           OWN|      85000.0|           TX|          799xx|            USA|    A|       A5|    Source Verified|       272384.0|      Individual|              NULL|                     NULL|\n",
      "|e5a140c0922b554b9...|community living ...|   6 years|          RENT|      48000.0|           NY|          146xx|            USA|    B|       B2|    Source Verified|        85092.0|      Individual|              NULL|                     NULL|\n",
      "|e12aefc548f750777...|              Office| 10+ years|           OWN|      33000.0|           CT|          067xx|            USA|    F|       F1|           Verified|         7100.0|      Individual|              NULL|                     NULL|\n",
      "|1b3a50d854fbbf97e...|Special Tooling I...| 10+ years|      MORTGAGE|      81000.0|           TX|          791xx|            USA|    E|       E5|           Verified|       190274.0|      Individual|              NULL|                     NULL|\n",
      "|1c4329e5f17697127...|     Mine ops tech 6|   2 years|      MORTGAGE|      68000.0|           AZ|          855xx|            USA|    C|       C3|       Not Verified|       182453.0|      Individual|              NULL|                     NULL|\n",
      "|5026c86ad983175eb...|           caregiver|   4 years|          RENT|      76020.0|           WA|          993xx|            USA|    C|       C2|    Source Verified|        15308.0|      Individual|              NULL|                     NULL|\n",
      "|9847d8c1e9d0b2084...|                NULL|      NULL|           OWN|      65000.0|           IL|          624xx|            USA|    E|       E3|           Verified|       128800.0|      Individual|              NULL|                     NULL|\n",
      "|8340dbe1adea41fb4...|Vice President Re...|   8 years|      MORTGAGE|     111000.0|           CT|          063xx|            USA|    A|       A1|       Not Verified|       343507.0|      Individual|              NULL|                     NULL|\n",
      "|d4de0de3ab7d79ad4...|             FOREMAN| 10+ years|      MORTGAGE|      67000.0|           WA|          992xx|            USA|    G|       G2|           Verified|       211501.0|      Individual|              NULL|                     NULL|\n",
      "|3df3cdeddb74a8712...|          Strategist|    1 year|          RENT|     120000.0|           CA|          946xx|            USA|    A|       A5|           Verified|        56844.0|      Individual|              NULL|                     NULL|\n",
      "|9dd72636b1b4045b4...|      Office Manager|   2 years|          RENT|      52000.0|           FL|          327xx|            USA|    D|       D1|    Source Verified|        39393.0|      Individual|              NULL|                     NULL|\n",
      "|1d4e1ef4353b73c00...|         Electrician|   2 years|      MORTGAGE|      50000.0|           IL|          606xx|            USA|    C|       C3|       Not Verified|        66064.0|      Individual|              NULL|                     NULL|\n",
      "|6f196952e71277fd4...|     Finance Manager|    1 year|      MORTGAGE|     125000.0|           GA|          310xx|            USA|    E|       E2|    Source Verified|       555591.0|      Individual|              NULL|                     NULL|\n",
      "|9c617cbc6e3e3d6a1...|  Nurse practitioner|   5 years|      MORTGAGE|     165000.0|           IL|          610xx|            USA|    F|       F1|    Source Verified|       366113.0|      Individual|              NULL|                     NULL|\n",
      "|45eb04dd75400a942...|  equipment operator|   3 years|      MORTGAGE|      60000.0|           CT|          064xx|            USA|    C|       C4|    Source Verified|       198693.0|      Individual|              NULL|                     NULL|\n",
      "|08d233c81f9e50726...|           caregiver|   2 years|          RENT|      36000.0|           MO|          648xx|            USA|    C|       C1|    Source Verified|        14477.0|      Individual|              NULL|                     NULL|\n",
      "|8ff4d0ed17a1cab92...|               owner| 10+ years|      MORTGAGE|      28000.0|           CO|          801xx|            USA|    D|       D1|           Verified|       314400.0|      Individual|              NULL|                     NULL|\n",
      "|aec13cfd611b2cfea...|Community Supervi...|   2 years|          RENT|      33000.0|           GA|          306xx|            USA|    D|       D2|    Source Verified|       188700.0|      Individual|              NULL|                     NULL|\n",
      "|9ba8c96ccba6cd1f0...| Contract Specialist|   5 years|      MORTGAGE|      74700.0|           UT|          844xx|            USA|    D|       D4|           Verified|       614272.0|      Individual|              NULL|                     NULL|\n",
      "+--------------------+--------------------+----------+--------------+-------------+-------------+---------------+---------------+-----+---------+-------------------+---------------+----------------+------------------+-------------------------+\n",
      "only showing top 20 rows\n",
      "\n"
     ]
    }
   ],
   "source": [
    "customer_df_renamed.show()"
   ]
  },
  {
   "cell_type": "code",
   "execution_count": 22,
   "id": "d8379357",
   "metadata": {},
   "outputs": [],
   "source": [
    "from pyspark.sql.functions import current_timestamp"
   ]
  },
  {
   "cell_type": "markdown",
   "id": "c82b8226",
   "metadata": {},
   "source": [
    "#### 3. insert a new column named as ingestion date(current time)"
   ]
  },
  {
   "cell_type": "code",
   "execution_count": 23,
   "id": "9c60e7d4",
   "metadata": {},
   "outputs": [],
   "source": [
    "customers_df_ingestd = customer_df_renamed.withColumn(\"ingest_date\", current_timestamp())"
   ]
  },
  {
   "cell_type": "code",
   "execution_count": 24,
   "id": "9e89ff1a",
   "metadata": {},
   "outputs": [
    {
     "data": {
      "text/plain": [
       "DataFrame[member_id: string, emp_title: string, emp_length: string, home_ownership: string, annual_income: float, address_state: string, address_zipcode: string, address_country: string, grade: string, sub_grade: string, verification_status: string, tot_hi_cred_lim: float, application_type: string, join_annual_income: float, verification_status_joint: string, ingest_date: timestamp]"
      ]
     },
     "execution_count": 24,
     "metadata": {},
     "output_type": "execute_result"
    }
   ],
   "source": [
    "customers_df_ingestd"
   ]
  },
  {
   "cell_type": "markdown",
   "id": "135ffed5",
   "metadata": {},
   "source": [
    "#### 4. Remove complete duplicate rows"
   ]
  },
  {
   "cell_type": "code",
   "execution_count": 25,
   "id": "d4c8d709",
   "metadata": {},
   "outputs": [
    {
     "data": {
      "text/plain": [
       "2260701"
      ]
     },
     "execution_count": 25,
     "metadata": {},
     "output_type": "execute_result"
    }
   ],
   "source": [
    "customers_df_ingestd.count()"
   ]
  },
  {
   "cell_type": "code",
   "execution_count": 26,
   "id": "a10d7f4e",
   "metadata": {},
   "outputs": [],
   "source": [
    "customers_distinct = customers_df_ingestd.distinct()"
   ]
  },
  {
   "cell_type": "code",
   "execution_count": 27,
   "id": "f81a414a",
   "metadata": {},
   "outputs": [
    {
     "data": {
      "text/plain": [
       "2260638"
      ]
     },
     "execution_count": 27,
     "metadata": {},
     "output_type": "execute_result"
    }
   ],
   "source": [
    "customers_distinct.count()"
   ]
  },
  {
   "cell_type": "code",
   "execution_count": 28,
   "id": "0c6f1b52",
   "metadata": {},
   "outputs": [],
   "source": [
    "customers_distinct.createOrReplaceTempView(\"customers\")"
   ]
  },
  {
   "cell_type": "code",
   "execution_count": 29,
   "id": "61075f8e",
   "metadata": {},
   "outputs": [
    {
     "data": {
      "text/plain": [
       "DataFrame[member_id: string, emp_title: string, emp_length: string, home_ownership: string, annual_income: float, address_state: string, address_zipcode: string, address_country: string, grade: string, sub_grade: string, verification_status: string, tot_hi_cred_lim: float, application_type: string, join_annual_income: float, verification_status_joint: string, ingest_date: timestamp]"
      ]
     },
     "execution_count": 29,
     "metadata": {},
     "output_type": "execute_result"
    }
   ],
   "source": [
    "spark.sql(\"select * from customers\")"
   ]
  },
  {
   "cell_type": "markdown",
   "id": "c7f7edec",
   "metadata": {},
   "source": [
    "#### 5. Remove the rows where annual_income is null"
   ]
  },
  {
   "cell_type": "code",
   "execution_count": 30,
   "id": "fb465608",
   "metadata": {},
   "outputs": [
    {
     "data": {
      "text/plain": [
       "DataFrame[count(1): bigint]"
      ]
     },
     "execution_count": 30,
     "metadata": {},
     "output_type": "execute_result"
    }
   ],
   "source": [
    "spark.sql(\"select count(*) from customers where annual_income is null\")"
   ]
  },
  {
   "cell_type": "code",
   "execution_count": 31,
   "id": "553d4f6d",
   "metadata": {},
   "outputs": [],
   "source": [
    "customers_income_filtered = spark.sql(\"select * from customers where annual_income is not null\")"
   ]
  },
  {
   "cell_type": "code",
   "execution_count": 32,
   "id": "1c45d548",
   "metadata": {},
   "outputs": [],
   "source": [
    "customers_income_filtered.createOrReplaceTempView(\"customers\")"
   ]
  },
  {
   "cell_type": "code",
   "execution_count": 33,
   "id": "47caf7a6",
   "metadata": {},
   "outputs": [
    {
     "data": {
      "text/plain": [
       "DataFrame[count(1): bigint]"
      ]
     },
     "execution_count": 33,
     "metadata": {},
     "output_type": "execute_result"
    }
   ],
   "source": [
    "spark.sql(\"select count(*) from customers where annual_income is null\")"
   ]
  },
  {
   "cell_type": "markdown",
   "id": "a1f0a709",
   "metadata": {},
   "source": [
    "### 6. convert emp_length to integer"
   ]
  },
  {
   "cell_type": "code",
   "execution_count": 34,
   "id": "a8f879e9",
   "metadata": {},
   "outputs": [
    {
     "data": {
      "text/plain": [
       "DataFrame[emp_length: string]"
      ]
     },
     "execution_count": 34,
     "metadata": {},
     "output_type": "execute_result"
    }
   ],
   "source": [
    "spark.sql(\"select distinct(emp_length) from customers\")"
   ]
  },
  {
   "cell_type": "code",
   "execution_count": 35,
   "id": "794c70e3",
   "metadata": {},
   "outputs": [],
   "source": [
    "from pyspark.sql.functions import regexp_replace, col"
   ]
  },
  {
   "cell_type": "code",
   "execution_count": 36,
   "id": "1a86808e",
   "metadata": {},
   "outputs": [],
   "source": [
    "customers_emplength_cleaned = customers_income_filtered.withColumn(\"emp_length\", regexp_replace(col(\"emp_length\"), \"(\\D)\",\"\"))"
   ]
  },
  {
   "cell_type": "code",
   "execution_count": 62,
   "id": "b8373383",
   "metadata": {},
   "outputs": [
    {
     "name": "stdout",
     "output_type": "stream",
     "text": [
      "+--------------------+------------+----------+--------------+-------------+-------------+---------------+---------------+-----+---------+-------------------+---------------+----------------+------------------+-------------------------+--------------------+\n",
      "|           member_id|   emp_title|emp_length|home_ownership|annual_income|address_state|address_zipcode|address_country|grade|sub_grade|verification_status|tot_hi_cred_lim|application_type|join_annual_income|verification_status_joint|         ingest_date|\n",
      "+--------------------+------------+----------+--------------+-------------+-------------+---------------+---------------+-----+---------+-------------------+---------------+----------------+------------------+-------------------------+--------------------+\n",
      "|a8673da8252d87f2f...|housekeeping|         3|          RENT|      30000.0|           MD|          208xx|            USA|    B|       B4|       Not Verified|        69200.0|       Joint App|          100000.0|             Not Verified|2024-04-20 08:51:...|\n",
      "|f36784a6d1e420f62...|  Electrican|         2|      MORTGAGE|      70000.0|           IL|          615xx|            USA|    D|       D2|       Not Verified|       263820.0|       Joint App|          138000.0|             Not Verified|2024-04-20 08:51:...|\n",
      "+--------------------+------------+----------+--------------+-------------+-------------+---------------+---------------+-----+---------+-------------------+---------------+----------------+------------------+-------------------------+--------------------+\n",
      "only showing top 2 rows\n",
      "\n"
     ]
    }
   ],
   "source": [
    "customers_emplength_cleaned.show(2)"
   ]
  },
  {
   "cell_type": "code",
   "execution_count": 38,
   "id": "9ceaaf31",
   "metadata": {},
   "outputs": [
    {
     "name": "stdout",
     "output_type": "stream",
     "text": [
      "root\n",
      " |-- member_id: string (nullable = true)\n",
      " |-- emp_title: string (nullable = true)\n",
      " |-- emp_length: string (nullable = true)\n",
      " |-- home_ownership: string (nullable = true)\n",
      " |-- annual_income: float (nullable = true)\n",
      " |-- address_state: string (nullable = true)\n",
      " |-- address_zipcode: string (nullable = true)\n",
      " |-- address_country: string (nullable = true)\n",
      " |-- grade: string (nullable = true)\n",
      " |-- sub_grade: string (nullable = true)\n",
      " |-- verification_status: string (nullable = true)\n",
      " |-- tot_hi_cred_lim: float (nullable = true)\n",
      " |-- application_type: string (nullable = true)\n",
      " |-- join_annual_income: float (nullable = true)\n",
      " |-- verification_status_joint: string (nullable = true)\n",
      " |-- ingest_date: timestamp (nullable = false)\n",
      "\n"
     ]
    }
   ],
   "source": [
    "customers_emplength_cleaned.printSchema()"
   ]
  },
  {
   "cell_type": "code",
   "execution_count": 39,
   "id": "52596627",
   "metadata": {},
   "outputs": [],
   "source": [
    "customers_emplength_casted = customers_emplength_cleaned.withColumn(\"emp_length\", customers_emplength_cleaned.emp_length.cast('int'))"
   ]
  },
  {
   "cell_type": "code",
   "execution_count": 40,
   "id": "bf0224e0",
   "metadata": {},
   "outputs": [
    {
     "data": {
      "text/plain": [
       "DataFrame[member_id: string, emp_title: string, emp_length: int, home_ownership: string, annual_income: float, address_state: string, address_zipcode: string, address_country: string, grade: string, sub_grade: string, verification_status: string, tot_hi_cred_lim: float, application_type: string, join_annual_income: float, verification_status_joint: string, ingest_date: timestamp]"
      ]
     },
     "execution_count": 40,
     "metadata": {},
     "output_type": "execute_result"
    }
   ],
   "source": [
    "customers_emplength_casted"
   ]
  },
  {
   "cell_type": "code",
   "execution_count": 41,
   "id": "1acc8525",
   "metadata": {},
   "outputs": [
    {
     "name": "stdout",
     "output_type": "stream",
     "text": [
      "root\n",
      " |-- member_id: string (nullable = true)\n",
      " |-- emp_title: string (nullable = true)\n",
      " |-- emp_length: integer (nullable = true)\n",
      " |-- home_ownership: string (nullable = true)\n",
      " |-- annual_income: float (nullable = true)\n",
      " |-- address_state: string (nullable = true)\n",
      " |-- address_zipcode: string (nullable = true)\n",
      " |-- address_country: string (nullable = true)\n",
      " |-- grade: string (nullable = true)\n",
      " |-- sub_grade: string (nullable = true)\n",
      " |-- verification_status: string (nullable = true)\n",
      " |-- tot_hi_cred_lim: float (nullable = true)\n",
      " |-- application_type: string (nullable = true)\n",
      " |-- join_annual_income: float (nullable = true)\n",
      " |-- verification_status_joint: string (nullable = true)\n",
      " |-- ingest_date: timestamp (nullable = false)\n",
      "\n"
     ]
    }
   ],
   "source": [
    "customers_emplength_casted.printSchema()"
   ]
  },
  {
   "cell_type": "markdown",
   "id": "f3a42500",
   "metadata": {},
   "source": [
    "#### 7. we need to replace all the nulls in emp_length column with average of this column"
   ]
  },
  {
   "cell_type": "code",
   "execution_count": 42,
   "id": "1b95815b",
   "metadata": {},
   "outputs": [
    {
     "data": {
      "text/plain": [
       "146903"
      ]
     },
     "execution_count": 42,
     "metadata": {},
     "output_type": "execute_result"
    }
   ],
   "source": [
    "customers_emplength_casted.filter(\"emp_length is null\").count()"
   ]
  },
  {
   "cell_type": "code",
   "execution_count": 43,
   "id": "819b465e",
   "metadata": {},
   "outputs": [],
   "source": [
    "customers_emplength_casted.createOrReplaceTempView(\"customers\")"
   ]
  },
  {
   "cell_type": "code",
   "execution_count": 44,
   "id": "da7f9eb7",
   "metadata": {},
   "outputs": [],
   "source": [
    "avg_emp_length = spark.sql(\"select floor(avg(emp_length)) as avg_emp_length from customers\").collect()"
   ]
  },
  {
   "cell_type": "code",
   "execution_count": 45,
   "id": "5ba2d256",
   "metadata": {},
   "outputs": [
    {
     "name": "stdout",
     "output_type": "stream",
     "text": [
      "[Row(avg_emp_length=6)]\n"
     ]
    }
   ],
   "source": [
    "print(avg_emp_length)"
   ]
  },
  {
   "cell_type": "code",
   "execution_count": 46,
   "id": "976b2874",
   "metadata": {},
   "outputs": [],
   "source": [
    "avg_emp_duration = avg_emp_length[0][0]"
   ]
  },
  {
   "cell_type": "code",
   "execution_count": 47,
   "id": "1b5a3d49",
   "metadata": {},
   "outputs": [
    {
     "name": "stdout",
     "output_type": "stream",
     "text": [
      "6\n"
     ]
    }
   ],
   "source": [
    "print(avg_emp_duration)"
   ]
  },
  {
   "cell_type": "code",
   "execution_count": 48,
   "id": "addabcd8",
   "metadata": {},
   "outputs": [],
   "source": [
    "customers_emplength_replaced = customers_emplength_casted.na.fill(avg_emp_duration, subset=['emp_length'])"
   ]
  },
  {
   "cell_type": "code",
   "execution_count": 49,
   "id": "cd625091",
   "metadata": {},
   "outputs": [
    {
     "data": {
      "text/plain": [
       "DataFrame[member_id: string, emp_title: string, emp_length: int, home_ownership: string, annual_income: float, address_state: string, address_zipcode: string, address_country: string, grade: string, sub_grade: string, verification_status: string, tot_hi_cred_lim: float, application_type: string, join_annual_income: float, verification_status_joint: string, ingest_date: timestamp]"
      ]
     },
     "execution_count": 49,
     "metadata": {},
     "output_type": "execute_result"
    }
   ],
   "source": [
    "customers_emplength_replaced"
   ]
  },
  {
   "cell_type": "code",
   "execution_count": 50,
   "id": "0c9e0e47",
   "metadata": {},
   "outputs": [
    {
     "data": {
      "text/plain": [
       "0"
      ]
     },
     "execution_count": 50,
     "metadata": {},
     "output_type": "execute_result"
    }
   ],
   "source": [
    "customers_emplength_replaced.filter(\"emp_length is null\").count()"
   ]
  },
  {
   "cell_type": "markdown",
   "id": "33777dec",
   "metadata": {},
   "source": [
    "#### 8. Clean the address_state(it should be 2 characters only),replace all others with NA"
   ]
  },
  {
   "cell_type": "code",
   "execution_count": 51,
   "id": "8b4e3e20",
   "metadata": {},
   "outputs": [],
   "source": [
    "customers_emplength_replaced.createOrReplaceTempView(\"customers\")"
   ]
  },
  {
   "cell_type": "code",
   "execution_count": 52,
   "id": "171c5e99",
   "metadata": {},
   "outputs": [
    {
     "data": {
      "text/plain": [
       "DataFrame[address_state: string]"
      ]
     },
     "execution_count": 52,
     "metadata": {},
     "output_type": "execute_result"
    }
   ],
   "source": [
    "spark.sql(\"select distinct(address_state) from customers\")"
   ]
  },
  {
   "cell_type": "code",
   "execution_count": 53,
   "id": "a75907a6",
   "metadata": {},
   "outputs": [
    {
     "data": {
      "text/plain": [
       "DataFrame[count(address_state): bigint]"
      ]
     },
     "execution_count": 53,
     "metadata": {},
     "output_type": "execute_result"
    }
   ],
   "source": [
    "spark.sql(\"select count(address_state) from customers where length(address_state)>2\")"
   ]
  },
  {
   "cell_type": "code",
   "execution_count": 54,
   "id": "773461be",
   "metadata": {},
   "outputs": [],
   "source": [
    "from pyspark.sql.functions import when, col, length"
   ]
  },
  {
   "cell_type": "code",
   "execution_count": 55,
   "id": "0b3a157b",
   "metadata": {},
   "outputs": [],
   "source": [
    "customers_state_cleaned = customers_emplength_replaced.withColumn(\n",
    "    \"address_state\",\n",
    "    when(length(col(\"address_state\"))> 2, \"NA\").otherwise(col(\"address_state\"))\n",
    ")"
   ]
  },
  {
   "cell_type": "code",
   "execution_count": 56,
   "id": "92d6c559",
   "metadata": {},
   "outputs": [
    {
     "data": {
      "text/plain": [
       "DataFrame[member_id: string, emp_title: string, emp_length: int, home_ownership: string, annual_income: float, address_state: string, address_zipcode: string, address_country: string, grade: string, sub_grade: string, verification_status: string, tot_hi_cred_lim: float, application_type: string, join_annual_income: float, verification_status_joint: string, ingest_date: timestamp]"
      ]
     },
     "execution_count": 56,
     "metadata": {},
     "output_type": "execute_result"
    }
   ],
   "source": [
    "customers_state_cleaned"
   ]
  },
  {
   "cell_type": "code",
   "execution_count": 57,
   "id": "fec2d09d",
   "metadata": {},
   "outputs": [
    {
     "data": {
      "text/plain": [
       "DataFrame[address_state: string]"
      ]
     },
     "execution_count": 57,
     "metadata": {},
     "output_type": "execute_result"
    }
   ],
   "source": [
    "customers_state_cleaned.select(\"address_state\").distinct()"
   ]
  },
  {
   "cell_type": "code",
   "execution_count": 61,
   "id": "bd6164a5",
   "metadata": {},
   "outputs": [
    {
     "name": "stdout",
     "output_type": "stream",
     "text": [
      "+--------------------+--------------------+----------+--------------+-------------+-------------+---------------+---------------+-----+---------+-------------------+---------------+----------------+------------------+-------------------------+--------------------+\n",
      "|           member_id|           emp_title|emp_length|home_ownership|annual_income|address_state|address_zipcode|address_country|grade|sub_grade|verification_status|tot_hi_cred_lim|application_type|join_annual_income|verification_status_joint|         ingest_date|\n",
      "+--------------------+--------------------+----------+--------------+-------------+-------------+---------------+---------------+-----+---------+-------------------+---------------+----------------+------------------+-------------------------+--------------------+\n",
      "|c51b39d26682986e1...|      formen general|        10|      MORTGAGE|      85000.0|           OR|          978xx|            USA|    A|       A4|       Not Verified|       340424.0|       Joint App|          115000.0|             Not Verified|2024-04-20 08:40:...|\n",
      "|8b70de27b068711a4...|     General manager|        10|           OWN|      45000.0|           OH|          456xx|            USA|    B|       B5|       Not Verified|        42870.0|       Joint App|           91000.0|             Not Verified|2024-04-20 08:40:...|\n",
      "|7b4032ee3e505fa72...|      office manager|        10|      MORTGAGE|      65000.0|           WA|          989xx|            USA|    C|       C1|       Not Verified|       387825.0|       Joint App|          140000.0|             Not Verified|2024-04-20 08:40:...|\n",
      "|91e30e10c481806b5...|      Police Officer|         3|          RENT|      70000.0|           NH|          038xx|            USA|    C|       C4|           Verified|        95019.0|       Joint App|          100000.0|          Source Verified|2024-04-20 08:40:...|\n",
      "|47d2b78e288887d4a...|             laborer|         6|          RENT|      55000.0|           IL|          604xx|            USA|    D|       D2|       Not Verified|        42191.0|       Joint App|          109000.0|             Not Verified|2024-04-20 08:40:...|\n",
      "|b8aeda5f27e6d0c82...|             manager|        10|      MORTGAGE|      60000.0|           KS|          671xx|            USA|    C|       C1|    Source Verified|       305132.0|       Joint App|          125000.0|          Source Verified|2024-04-20 08:40:...|\n",
      "|b9a4ca3a036bf1e44...|             Manager|        10|      MORTGAGE|      65000.0|           OH|          442xx|            USA|    B|       B3|       Not Verified|       204790.0|       Joint App|          130000.0|             Not Verified|2024-04-20 08:40:...|\n",
      "|9abdd9a15bca4e5df...| Contract Specialist|         4|          RENT|      40000.0|           HI|          967xx|            USA|    C|       C3|    Source Verified|        24600.0|       Joint App|           82000.0|          Source Verified|2024-04-20 08:40:...|\n",
      "|b1a139290e800e6c7...|                HVAC|        10|           OWN|      45000.0|           AZ|          852xx|            USA|    A|       A4|    Source Verified|       101106.0|       Joint App|          171900.0|          Source Verified|2024-04-20 08:40:...|\n",
      "|94130fdc6031f3f93...|Director of Stand...|         2|      MORTGAGE|      90000.0|           TN|          371xx|            USA|    A|       A2|       Not Verified|       504614.0|       Joint App|          185000.0|             Not Verified|2024-04-20 08:40:...|\n",
      "|9105fc799611d025d...|Information Secur...|         2|      MORTGAGE|     163000.0|           AZ|          851xx|            USA|    C|       C3|    Source Verified|       452463.0|       Joint App|          163000.0|             Not Verified|2024-04-20 08:40:...|\n",
      "|3ed203c1fa588d568...|             Manager|         9|           OWN|      35000.0|           AK|          995xx|            USA|    A|       A3|           Verified|       421180.0|       Joint App|          100000.0|                 Verified|2024-04-20 08:40:...|\n",
      "|54d52bf7fd0199acf...|Direct Support Pr...|         1|          RENT|      19000.0|           NY|          144xx|            USA|    D|       D3|    Source Verified|        16759.0|       Joint App|           40000.0|          Source Verified|2024-04-20 08:40:...|\n",
      "|649acace81b954b1b...|             TEACHER|         5|      MORTGAGE|      68000.0|           TX|          770xx|            USA|    C|       C1|       Not Verified|       318025.0|       Joint App|          133000.0|             Not Verified|2024-04-20 08:40:...|\n",
      "|cdb9595435aa90c01...|Asst terminal man...|         1|      MORTGAGE|      83000.0|           CT|          064xx|            USA|    A|       A4|       Not Verified|       473367.0|       Joint App|          100680.0|             Not Verified|2024-04-20 08:40:...|\n",
      "|a9107b5efa5e417c7...|       Cosmetologist|        10|           OWN|      35000.0|           CA|          900xx|            USA|    B|       B3|       Not Verified|       287400.0|       Joint App|           65000.0|             Not Verified|2024-04-20 08:40:...|\n",
      "|637fd0d391aa3d3d9...|CAD, Project Coor...|         2|      MORTGAGE|      57000.0|           TN|          370xx|            USA|    B|       B5|       Not Verified|       183085.0|       Joint App|           69000.0|             Not Verified|2024-04-20 08:40:...|\n",
      "|bcd6a8ea40a6132e7...|Heavy Equipment O...|         2|           OWN|      66133.0|           GA|          305xx|            USA|    D|       D5|    Source Verified|        12500.0|       Joint App|          115133.0|          Source Verified|2024-04-20 08:40:...|\n",
      "|c8969c9eb9746a767...|      Letter carrier|        10|      MORTGAGE|      70000.0|           NY|          128xx|            USA|    D|       D5|       Not Verified|        45656.0|       Joint App|           90000.0|             Not Verified|2024-04-20 08:40:...|\n",
      "|d27c5b6aeff9f8ad2...|      Chief of Staff|         5|      MORTGAGE|      60000.0|           DC|          200xx|            USA|    A|       A1|    Source Verified|       487925.0|       Joint App|          220000.0|          Source Verified|2024-04-20 08:40:...|\n",
      "+--------------------+--------------------+----------+--------------+-------------+-------------+---------------+---------------+-----+---------+-------------------+---------------+----------------+------------------+-------------------------+--------------------+\n",
      "only showing top 20 rows\n",
      "\n"
     ]
    }
   ],
   "source": [
    "customers_state_cleaned.show()"
   ]
  },
  {
   "cell_type": "code",
   "execution_count": 59,
   "id": "51155c3b",
   "metadata": {},
   "outputs": [],
   "source": [
    "# customers_state_cleaned.write \\\n",
    "# .format(\"parquet\") \\\n",
    "# .mode(\"overwrite\") \\\n",
    "# .option(\"path\", \"/user/itv006277/lendingclubproject/raw/cleaned/customers_parquet\") \\\n",
    "# .save()"
   ]
  },
  {
   "cell_type": "code",
   "execution_count": 60,
   "id": "a9f8cb56",
   "metadata": {},
   "outputs": [],
   "source": [
    "# customers_state_cleaned.write \\\n",
    "# .option(\"header\", True) \\\n",
    "# .format(\"csv\") \\\n",
    "# .mode(\"overwrite\") \\\n",
    "# .option(\"path\", \"/user/itv006277/lendingclubproject/raw/cleaned/customers_csv\") \\\n",
    "# .save()"
   ]
  }
 ],
 "metadata": {
  "kernelspec": {
   "display_name": ".venv",
   "language": "python",
   "name": "python3"
  },
  "language_info": {
   "codemirror_mode": {
    "name": "ipython",
    "version": 3
   },
   "file_extension": ".py",
   "mimetype": "text/x-python",
   "name": "python",
   "nbconvert_exporter": "python",
   "pygments_lexer": "ipython3",
   "version": "3.10.0"
  }
 },
 "nbformat": 4,
 "nbformat_minor": 5
}
